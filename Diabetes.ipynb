{
  "nbformat": 4,
  "nbformat_minor": 0,
  "metadata": {
    "colab": {
      "provenance": [],
      "authorship_tag": "ABX9TyMNxfs3tM8uYqlGqi3XvAJD",
      "include_colab_link": true
    },
    "kernelspec": {
      "name": "python3",
      "display_name": "Python 3"
    },
    "language_info": {
      "name": "python"
    }
  },
  "cells": [
    {
      "cell_type": "markdown",
      "metadata": {
        "id": "view-in-github",
        "colab_type": "text"
      },
      "source": [
        "<a href=\"https://colab.research.google.com/github/Himanshugahlot248/Diabetes-ML/blob/main/Diabetes.ipynb\" target=\"_parent\"><img src=\"https://colab.research.google.com/assets/colab-badge.svg\" alt=\"Open In Colab\"/></a>"
      ]
    },
    {
      "cell_type": "code",
      "execution_count": 2,
      "metadata": {
        "colab": {
          "base_uri": "https://localhost:8080/"
        },
        "id": "9-m53R_yoZPs",
        "outputId": "b949eea5-8697-416d-eeed-be2c25371a95"
      },
      "outputs": [
        {
          "output_type": "stream",
          "name": "stdout",
          "text": [
            "Requirement already satisfied: scikit-learn in /usr/local/lib/python3.11/dist-packages (1.6.1)\n",
            "Requirement already satisfied: numpy>=1.19.5 in /usr/local/lib/python3.11/dist-packages (from scikit-learn) (1.26.4)\n",
            "Requirement already satisfied: scipy>=1.6.0 in /usr/local/lib/python3.11/dist-packages (from scikit-learn) (1.13.1)\n",
            "Requirement already satisfied: joblib>=1.2.0 in /usr/local/lib/python3.11/dist-packages (from scikit-learn) (1.4.2)\n",
            "Requirement already satisfied: threadpoolctl>=3.1.0 in /usr/local/lib/python3.11/dist-packages (from scikit-learn) (3.5.0)\n"
          ]
        }
      ],
      "source": [
        "# pip install scikit-learn\n"
      ]
    },
    {
      "cell_type": "code",
      "source": [
        "\n",
        "import numpy as np\n",
        "import pandas as pd\n",
        "from sklearn.preprocessing import StandardScaler\n",
        "from sklearn.model_selection import train_test_split\n",
        "from sklearn.metrics import accuracy_score\n",
        "from sklearn import svm\n",
        "\n",
        "df=pd.read_csv('diabetes.csv')\n",
        "\n",
        "df.head()\n",
        "\n",
        "df.shape\n",
        "\n",
        "df.describe()\n",
        "\n",
        "df['Outcome'].value_counts()\n",
        "\n",
        "X=df.drop(columns=['Outcome'],axis=1)\n",
        "Y=df['Outcome']\n",
        "\n",
        "\n",
        "print(X)\n",
        "\n",
        "print(Y)\n",
        "\n",
        "scalar=StandardScaler()\n",
        "\n",
        "scalar.fit(X)\n",
        "\n",
        "std_data=scalar.transform(X)\n",
        "\n",
        "std_data\n",
        "\n",
        "X=std_data\n",
        "Y=df['Outcome']\n",
        "\n",
        "X_train, X_test, Y_train,Y_test=train_test_split(X,Y,test_size=0.2,random_state=3)\n",
        "\n",
        "print(X.shape,X_train.shape,X_test.shape)\n",
        "\n",
        "classifier=svm.SVC(kernel='linear')\n",
        "\n",
        "classifier.fit(X_train,Y_train)\n",
        "\n",
        "X_train_accuracy=classifier.predict(X_train)\n",
        "train_accuracy=accuracy_score(X_train_accuracy,Y_train)\n",
        "\n",
        "print(\"The training data accuracy is:\",train_accuracy)\n",
        "\n",
        "X_test_accuracy=classifier.predict(X_test)\n",
        "test_accuracy=accuracy_score(X_test_accuracy,Y_test)\n",
        "\n",
        "print(\"The test data accuracy is:\",test_accuracy)\n",
        "\n",
        "inp=(4,110,92,0,0,37.6,0.191,30)\n",
        "in_as_np=np.asarray(inp)\n",
        "\n",
        "in_reshape=in_as_np.reshape(1,-1)\n",
        "\n",
        "std_in=scalar.transform(in_reshape)\n",
        "\n",
        "prediction=classifier.predict(std_in)\n",
        "\n",
        "print(prediction)\n",
        "\n",
        "if(prediction[0]==0):\n",
        "    print(\"Non Diabetic\")\n",
        "else:\n",
        "    print(\"Diabetic\")\n",
        "\n",
        "\n",
        "\n",
        "\n"
      ],
      "metadata": {
        "colab": {
          "base_uri": "https://localhost:8080/"
        },
        "id": "66gCkBwEpwH8",
        "outputId": "bd1d9fc8-efcd-4cf8-c481-c13c6c7c06e3"
      },
      "execution_count": 3,
      "outputs": [
        {
          "output_type": "stream",
          "name": "stdout",
          "text": [
            "     Pregnancies  Glucose  BloodPressure  SkinThickness  Insulin   BMI  \\\n",
            "0              6      148             72             35        0  33.6   \n",
            "1              1       85             66             29        0  26.6   \n",
            "2              8      183             64              0        0  23.3   \n",
            "3              1       89             66             23       94  28.1   \n",
            "4              0      137             40             35      168  43.1   \n",
            "..           ...      ...            ...            ...      ...   ...   \n",
            "763           10      101             76             48      180  32.9   \n",
            "764            2      122             70             27        0  36.8   \n",
            "765            5      121             72             23      112  26.2   \n",
            "766            1      126             60              0        0  30.1   \n",
            "767            1       93             70             31        0  30.4   \n",
            "\n",
            "     DiabetesPedigreeFunction  Age  \n",
            "0                       0.627   50  \n",
            "1                       0.351   31  \n",
            "2                       0.672   32  \n",
            "3                       0.167   21  \n",
            "4                       2.288   33  \n",
            "..                        ...  ...  \n",
            "763                     0.171   63  \n",
            "764                     0.340   27  \n",
            "765                     0.245   30  \n",
            "766                     0.349   47  \n",
            "767                     0.315   23  \n",
            "\n",
            "[768 rows x 8 columns]\n",
            "0      1\n",
            "1      0\n",
            "2      1\n",
            "3      0\n",
            "4      1\n",
            "      ..\n",
            "763    0\n",
            "764    0\n",
            "765    0\n",
            "766    1\n",
            "767    0\n",
            "Name: Outcome, Length: 768, dtype: int64\n",
            "(768, 8) (614, 8) (154, 8)\n",
            "The training data accuracy is: 0.7850162866449512\n",
            "The test data accuracy is: 0.7337662337662337\n",
            "[0]\n",
            "Non Diabetic\n"
          ]
        },
        {
          "output_type": "stream",
          "name": "stderr",
          "text": [
            "/usr/local/lib/python3.11/dist-packages/sklearn/utils/validation.py:2739: UserWarning: X does not have valid feature names, but StandardScaler was fitted with feature names\n",
            "  warnings.warn(\n"
          ]
        }
      ]
    }
  ]
}